{
 "cells": [
  {
   "cell_type": "code",
   "execution_count": 35,
   "metadata": {},
   "outputs": [],
   "source": [
    "import pandas as pd\n",
    "import numpy as np\n",
    "from sklearn.ensemble import RandomForestRegressor, RandomForestClassifier, GradientBoostingClassifier\n",
    "import matplotlib.pyplot as plt\n",
    "%matplotlib inline\n",
    "from sklearn.preprocessing import LabelEncoder, OneHotEncoder, MultiLabelBinarizer, scale\n",
    "from sklearn.neighbors import KNeighborsClassifier\n",
    "from sklearn.metrics import confusion_matrix\n",
    "from sklearn.linear_model import LogisticRegression\n",
    "\n",
    "from sklearn.tree import DecisionTreeClassifier\n",
    "\n",
    "import seaborn as sns\n",
    "from sklearn.metrics import roc_curve, auc\n",
    "\n",
    "from sklearn import svm"
   ]
  },
  {
   "cell_type": "code",
   "execution_count": 36,
   "metadata": {},
   "outputs": [],
   "source": [
    "def plotAUC(truth, pred, lab):\n",
    "    fpr, tpr, thresholds = roc_curve(truth, pred)\n",
    "    roc_auc = auc(fpr, tpr)\n",
    "    plt.plot(fpr, tpr, label= lab+' (AUC = %0.2f)' % roc_auc)\n",
    "    plt.plot([0, 1], [0, 1], 'k--')\n",
    "    plt.xlim([0, 1])\n",
    "    plt.ylim([0, 1])\n",
    "    plt.xlabel('FPR')\n",
    "    plt.ylabel('TPR')\n",
    "    plt.title('ROC')\n",
    "    plt.legend(loc=\"lower right\")"
   ]
  },
  {
   "cell_type": "code",
   "execution_count": 37,
   "metadata": {},
   "outputs": [],
   "source": [
    "directory='c:/users/da1933/desktop/cds/ids_project/'\n",
    "#directory='~/desktop/idsproject/'\n",
    "\n",
    "df1=pd.read_csv(directory+'wine/winemag-data-130k-v2.csv',index_col=0)\n",
    "df2=pd.read_csv(directory+'wine/winemag-data_first150k.csv',index_col=0)\n",
    "df=pd.concat([df1.drop(['taster_name','taster_twitter_handle','title'],axis=1),df2]).reset_index(drop=True)"
   ]
  },
  {
   "cell_type": "code",
   "execution_count": 38,
   "metadata": {},
   "outputs": [],
   "source": [
    "df['over90']=df['points'].apply(lambda x: 1 if x>=90 else 0)\n",
    "df['price']=df['price'].fillna(np.mean(df['price']))\n",
    "df['price']=scale(df[['price']])\n",
    "df['designation']=df['designation'].fillna('missing')\n",
    "df['textlen']=df['description'].apply(lambda x: len(x))\n",
    "df['textlen']=scale(df[['textlen']])"
   ]
  },
  {
   "cell_type": "markdown",
   "metadata": {},
   "source": [
    "### Embeddings  - building out categorical embeddings from:  \n",
    "* https://www.fast.ai/2018/04/29/categorical-embeddings/\n",
    "* https://medium.com/@hiromi_suenaga/deep-learning-2-part-1-lesson-4-2048a26d58aa\n",
    "* https://forums.fast.ai/t/understanding-columnarmodeldata-from-data-frame-from-rossman/8140"
   ]
  },
  {
   "cell_type": "code",
   "execution_count": null,
   "metadata": {},
   "outputs": [],
   "source": [
    "from fastai.imports import *\n",
    "from fastai.structured import *\n",
    "from fastai.column_data import *\n",
    "from torch.nn import functional as F"
   ]
  },
  {
   "cell_type": "code",
   "execution_count": 57,
   "metadata": {},
   "outputs": [
    {
     "data": {
      "text/plain": [
       "object     8\n",
       "int32      3\n",
       "float64    2\n",
       "int64      2\n",
       "dtype: int64"
      ]
     },
     "execution_count": 57,
     "metadata": {},
     "output_type": "execute_result"
    }
   ],
   "source": [
    "df.dtypes.value_counts()"
   ]
  },
  {
   "cell_type": "code",
   "execution_count": 59,
   "metadata": {},
   "outputs": [],
   "source": [
    "cat_vars = [col for col in df if df[col].dtype.name != 'float64' and df[col].dtype.name != 'float32' and len(df[col].unique()) < 1500]\n",
    "cat_vars.remove('over90')\n",
    "cat_vars.remove('points')\n",
    "for v in cat_vars: df[v] = df[v].astype('category').cat.as_ordered()\n",
    "cat_sz = [(c, len(df[c].cat.categories)+1) for c in cat_vars]"
   ]
  },
  {
   "cell_type": "code",
   "execution_count": 60,
   "metadata": {},
   "outputs": [
    {
     "data": {
      "text/plain": [
       "[('country', 51),\n",
       " ('province', 491),\n",
       " ('region_1', 1333),\n",
       " ('region_2', 19),\n",
       " ('variety', 757),\n",
       " ('enc_country', 52),\n",
       " ('enc_province', 492),\n",
       " ('enc_variety', 758)]"
      ]
     },
     "execution_count": 60,
     "metadata": {},
     "output_type": "execute_result"
    }
   ],
   "source": [
    "cat_sz"
   ]
  },
  {
   "cell_type": "markdown",
   "metadata": {},
   "source": [
    "### Encoding"
   ]
  },
  {
   "cell_type": "code",
   "execution_count": 42,
   "metadata": {},
   "outputs": [],
   "source": [
    "l_enc = LabelEncoder()\n",
    "col1 = l_enc.fit_transform(df['country'].astype(str))\n",
    "col2 = l_enc.fit_transform(df['variety'].astype(str))\n",
    "col3 = l_enc.fit_transform(df['province'].astype(str))\n",
    "df_enc = pd.DataFrame({'enc_country':col1,'enc_variety':col2,'enc_province':col3})\n",
    "\n",
    "df=pd.concat([df,df_enc],axis=1)"
   ]
  },
  {
   "cell_type": "markdown",
   "metadata": {},
   "source": [
    "#one hot encoding\n",
    "enc = OneHotEncoder()\n",
    "X_enc = enc.fit_transform(X)\n",
    "\n",
    "X_enc"
   ]
  },
  {
   "cell_type": "markdown",
   "metadata": {},
   "source": [
    "### Train-Test-Split"
   ]
  },
  {
   "cell_type": "code",
   "execution_count": 43,
   "metadata": {},
   "outputs": [],
   "source": [
    "df=df.set_index(np.random.permutation(df.index.values)).sort_index()\n",
    "\n",
    "# Determine split index:\n",
    "split_index=int(np.round(df.shape[0]*.8))\n",
    "\n",
    "# Assign training and testing datasets based on split index\n",
    "train_df=df.iloc[:split_index,:]\n",
    "test_df=df.iloc[split_index:,:]\n",
    "\n",
    "trainX=train_df.drop(['points','description'],axis=1)\n",
    "trainY=train_df[['points','over90']]\n",
    "testX=test_df.drop(['points','description'],axis=1)\n",
    "testY=test_df[['points','over90']]"
   ]
  },
  {
   "cell_type": "markdown",
   "metadata": {},
   "source": [
    "### Random Forest Regression"
   ]
  },
  {
   "cell_type": "code",
   "execution_count": 44,
   "metadata": {},
   "outputs": [],
   "source": [
    "clf=RandomForestRegressor()\n",
    "clf.fit(trainX[['price','enc_country','enc_province','enc_variety','textlen']],trainY['points'])\n",
    "score=clf.score(testX[['price','enc_country','enc_province','enc_variety','textlen']],testY['points'])"
   ]
  },
  {
   "cell_type": "code",
   "execution_count": 45,
   "metadata": {},
   "outputs": [
    {
     "name": "stdout",
     "output_type": "stream",
     "text": [
      "50 5 0.5045446373983333\n",
      "50 10 0.4951027431957849\n",
      "300 5 0.5043810922886022\n",
      "300 10 0.49283548078086037\n"
     ]
    }
   ],
   "source": [
    "scores=[]\n",
    "d=[50,300]\n",
    "l=[5,10]\n",
    "for depth in d:\n",
    "    for leaves in l:\n",
    "        clf=RandomForestRegressor(max_depth=depth,min_samples_leaf=leaves)\n",
    "        clf.fit(trainX[['enc_province','enc_variety','textlen']],trainY['points'])\n",
    "        score=clf.score(testX[['enc_province','enc_variety','textlen']],testY['points'])\n",
    "        scores.append((depth,leaves,score))\n",
    "        print(depth,leaves,score)"
   ]
  },
  {
   "cell_type": "markdown",
   "metadata": {},
   "source": [
    "### Random Forest Classifier"
   ]
  },
  {
   "cell_type": "code",
   "execution_count": 54,
   "metadata": {},
   "outputs": [
    {
     "name": "stdout",
     "output_type": "stream",
     "text": [
      "0.8749021003915984\n"
     ]
    },
    {
     "data": {
      "image/png": "[encoded data removed]",
      "text/plain": [
       "<Figure size 432x288 with 1 Axes>"
      ]
     },
     "metadata": {},
     "output_type": "display_data"
    }
   ],
   "source": [
    "rfc=RandomForestClassifier(criterion='entropy')\n",
    "rfc.fit(trainX[['price','enc_country','enc_province','enc_variety','textlen']],trainY['over90'])\n",
    "rfc_preds=rfc.predict(testX[['price','enc_country','enc_province','enc_variety','textlen']])\n",
    "print(rfc.score(testX[['price','enc_country','enc_province','enc_variety','textlen']],testY['over90']))\n",
    "plotAUC(testY['over90'],rfc.predict(testX[['price','enc_country','enc_province','enc_variety','textlen']]),'RFC')"
   ]
  },
  {
   "cell_type": "markdown",
   "metadata": {},
   "source": [
    "## Gradient Boosted Classifier"
   ]
  },
  {
   "cell_type": "code",
   "execution_count": 53,
   "metadata": {},
   "outputs": [
    {
     "name": "stdout",
     "output_type": "stream",
     "text": [
      "0.8005161979352082\n"
     ]
    },
    {
     "data": {
      "image/png": "[encoded data removed]",
      "text/plain": [
       "<Figure size 432x288 with 1 Axes>"
      ]
     },
     "metadata": {},
     "output_type": "display_data"
    }
   ],
   "source": [
    "gbc=GradientBoostingClassifier()\n",
    "gbc.fit(trainX[['price','enc_country','enc_province','enc_variety','textlen']],trainY['over90'])\n",
    "gbc_preds=gbc.predict(testX[['price','enc_country','enc_province','enc_variety','textlen']])\n",
    "print(gbc.score(testX[['price','enc_country','enc_province','enc_variety','textlen']],testY['over90']))\n",
    "plotAUC(testY['over90'],gbc.predict(testX[['price','enc_country','enc_province','enc_variety','textlen']]),'GB')"
   ]
  },
  {
   "cell_type": "markdown",
   "metadata": {},
   "source": [
    "## SVM - VERY time consuming"
   ]
  },
  {
   "cell_type": "code",
   "execution_count": null,
   "metadata": {},
   "outputs": [],
   "source": [
    "clf = svm.SVC(kernel='rbf')"
   ]
  },
  {
   "cell_type": "code",
   "execution_count": null,
   "metadata": {},
   "outputs": [],
   "source": [
    "clf.fit(trainX[['enc_country','enc_province','enc_variety','textlen']],trainY['over90'])  "
   ]
  },
  {
   "cell_type": "code",
   "execution_count": null,
   "metadata": {},
   "outputs": [],
   "source": [
    "preds=clf.predict(testX[['enc_country','enc_province','enc_variety','textlen']])"
   ]
  },
  {
   "cell_type": "code",
   "execution_count": null,
   "metadata": {
    "scrolled": true
   },
   "outputs": [],
   "source": [
    "sum(preds==testY['over90'])/len(testY['over90'])"
   ]
  },
  {
   "cell_type": "code",
   "execution_count": null,
   "metadata": {},
   "outputs": [],
   "source": [
    "q=df['over90'].value_counts().values"
   ]
  },
  {
   "cell_type": "code",
   "execution_count": null,
   "metadata": {},
   "outputs": [],
   "source": [
    "q[0]/sum(q)"
   ]
  },
  {
   "cell_type": "code",
   "execution_count": null,
   "metadata": {},
   "outputs": [],
   "source": [
    "plot_AUC()"
   ]
  },
  {
   "cell_type": "markdown",
   "metadata": {},
   "source": [
    "## KNN"
   ]
  },
  {
   "cell_type": "code",
   "execution_count": 52,
   "metadata": {},
   "outputs": [
    {
     "name": "stdout",
     "output_type": "stream",
     "text": [
      "0.8133677465290139\n"
     ]
    },
    {
     "data": {
      "image/png": "[encoded data removed]",
      "text/plain": [
       "<Figure size 432x288 with 1 Axes>"
      ]
     },
     "metadata": {},
     "output_type": "display_data"
    }
   ],
   "source": [
    "knn = KNeighborsClassifier(n_neighbors=5)\n",
    "knn.fit(trainX[['price','enc_country','enc_province','enc_variety','textlen']],trainY['over90'])\n",
    "knn_preds=knn.predict(testX[['price','enc_country','enc_province','enc_variety','textlen']])\n",
    "print(knn.score(testX[['price','enc_country','enc_province','enc_variety','textlen']],testY['over90']))\n",
    "plotAUC(testY['over90'],knn.predict(testX[['price','enc_country','enc_province','enc_variety','textlen']]),'KNN')"
   ]
  },
  {
   "cell_type": "markdown",
   "metadata": {},
   "source": [
    "### Logistic Regression"
   ]
  },
  {
   "cell_type": "code",
   "execution_count": 55,
   "metadata": {},
   "outputs": [
    {
     "name": "stdout",
     "output_type": "stream",
     "text": [
      "0.7797614809540762\n"
     ]
    },
    {
     "data": {
      "image/png": "[encoded data removed]",
      "text/plain": [
       "<Figure size 432x288 with 1 Axes>"
      ]
     },
     "metadata": {},
     "output_type": "display_data"
    }
   ],
   "source": [
    "lr = LogisticRegression()\n",
    "lr.fit(trainX[['price','enc_country','enc_province','enc_variety','textlen']],trainY['over90'])\n",
    "lr_preds=lr.predict(testX[['price','enc_country','enc_province','enc_variety','textlen']])\n",
    "print(lr.score(testX[['price','enc_country','enc_province','enc_variety','textlen']],testY['over90']))\n",
    "plotAUC(testY['over90'],lr.predict(testX[['price','enc_country','enc_province','enc_variety','textlen']]),'LogReg')"
   ]
  },
  {
   "cell_type": "markdown",
   "metadata": {},
   "source": [
    "### To add later ? Analyze how/why rfc, gbc, and knn prediction are different?"
   ]
  },
  {
   "cell_type": "code",
   "execution_count": 56,
   "metadata": {},
   "outputs": [
    {
     "name": "stdout",
     "output_type": "stream",
     "text": [
      "RFC and GBC make 82.82% similar predictions\n",
      "RFC and KNN make 86.37% similar predictions\n",
      "RFC and LR make 80.12% similar predictions\n",
      "GBC and KNN make 83.35% similar predictions\n",
      "GBC and LR make 90.89% similar predictions\n",
      "KNN and LR make 80.88% similar predictions\n"
     ]
    }
   ],
   "source": [
    "print('RFC and GBC make {0:.2f}% similar predictions'.format(100*sum(rfc_preds==gbc_preds)/len(testY['over90'])))\n",
    "print('RFC and KNN make {0:.2f}% similar predictions'.format(100*sum(rfc_preds==knn_preds)/len(testY['over90'])))\n",
    "print('RFC and LR make {0:.2f}% similar predictions'.format(100*sum(rfc_preds==lr_preds)/len(testY['over90'])))\n",
    "print('GBC and KNN make {0:.2f}% similar predictions'.format(100*sum(gbc_preds==knn_preds)/len(testY['over90'])))\n",
    "print('GBC and LR make {0:.2f}% similar predictions'.format(100*sum(gbc_preds==lr_preds)/len(testY['over90'])))\n",
    "print('KNN and LR make {0:.2f}% similar predictions'.format(100*sum(knn_preds==lr_preds)/len(testY['over90'])))"
   ]
  }
 ],
 "metadata": {
  "kernelspec": {
   "display_name": "Python [default]",
   "language": "python",
   "name": "python3"
  },
  "language_info": {
   "codemirror_mode": {
    "name": "ipython",
    "version": 3
   },
   "file_extension": ".py",
   "mimetype": "text/x-python",
   "name": "python",
   "nbconvert_exporter": "python",
   "pygments_lexer": "ipython3",
   "version": "3.6.4"
  }
 },
 "nbformat": 4,
 "nbformat_minor": 2
}
