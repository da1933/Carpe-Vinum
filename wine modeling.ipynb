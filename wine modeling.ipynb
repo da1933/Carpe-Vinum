{
 "cells": [
  {
   "cell_type": "code",
   "execution_count": 3,
   "metadata": {},
   "outputs": [
    {
     "name": "stderr",
     "output_type": "stream",
     "text": [
      "C:\\Users\\da1933\\AppData\\Local\\Continuum\\Anaconda3\\lib\\site-packages\\sklearn\\ensemble\\weight_boosting.py:29: DeprecationWarning: numpy.core.umath_tests is an internal NumPy module and should not be imported. It will be removed in a future NumPy release.\n",
      "  from numpy.core.umath_tests import inner1d\n"
     ]
    }
   ],
   "source": [
    "import pandas as pd\n",
    "import numpy as np\n",
    "from sklearn.ensemble import RandomForestRegressor, RandomForestClassifier, GradientBoostingClassifier\n",
    "import matplotlib.pyplot as plt\n",
    "%matplotlib inline\n",
    "from sklearn.preprocessing import LabelEncoder, OneHotEncoder, MultiLabelBinarizer\n",
    "from sklearn.neighbors import KNeighborsClassifier\n",
    "from sklearn.metrics import confusion_matrix\n",
    "from sklearn.linear_model import LogisticRegression\n",
    "\n",
    "from sklearn.tree import DecisionTreeClassifier\n",
    "\n",
    "import seaborn as sns\n",
    "from sklearn.metrics import roc_curve, auc\n",
    "\n",
    "from sklearn import svm"
   ]
  },
  {
   "cell_type": "code",
   "execution_count": 16,
   "metadata": {},
   "outputs": [],
   "source": [
    "def plotAUC(truth, pred, lab):\n",
    "    fpr, tpr, thresholds = roc_curve(truth, pred)\n",
    "    roc_auc = auc(fpr, tpr)\n",
    "    plt.plot(fpr, tpr, label= lab+' (AUC = %0.2f)' % roc_auc)\n",
    "    plt.plot([0, 1], [0, 1], 'k--')\n",
    "    plt.xlim([0, 1])\n",
    "    plt.ylim([0, 1])\n",
    "    plt.xlabel('FPR')\n",
    "    plt.ylabel('TPR')\n",
    "    plt.title('ROC')\n",
    "    plt.legend(loc=\"lower right\")"
   ]
  },
  {
   "cell_type": "code",
   "execution_count": 4,
   "metadata": {},
   "outputs": [],
   "source": [
    "directory='c:/users/da1933/desktop/cds/ids_project/'\n",
    "#directory='~/desktop/idsproject/'\n",
    "\n",
    "df1=pd.read_csv(directory+'wine/winemag-data-130k-v2.csv',index_col=0)\n",
    "df2=pd.read_csv(directory+'wine/winemag-data_first150k.csv',index_col=0)\n",
    "df=pd.concat([df1.drop(['taster_name','taster_twitter_handle','title'],axis=1),df2]).reset_index(drop=True)"
   ]
  },
  {
   "cell_type": "code",
   "execution_count": 5,
   "metadata": {},
   "outputs": [],
   "source": [
    "df['over90']=df['points'].apply(lambda x: 1 if x>=90 else 0)"
   ]
  },
  {
   "cell_type": "code",
   "execution_count": 6,
   "metadata": {},
   "outputs": [],
   "source": [
    "varietal_counts=pd.DataFrame({'grape':df['variety'].value_counts().index,'count':df['variety'].value_counts().values})"
   ]
  },
  {
   "cell_type": "code",
   "execution_count": 7,
   "metadata": {},
   "outputs": [],
   "source": [
    "varietals=set(varietal_counts[varietal_counts['count']>=50]['grape'])"
   ]
  },
  {
   "cell_type": "code",
   "execution_count": 8,
   "metadata": {},
   "outputs": [],
   "source": [
    "l_enc = LabelEncoder()\n",
    "col1 = l_enc.fit_transform(df['country'].astype(str))\n",
    "col2 = l_enc.fit_transform(df['variety'].astype(str))\n",
    "col3 = l_enc.fit_transform(df['province'].astype(str))\n",
    "df_enc = pd.DataFrame({'enc_country':col1,'enc_variety':col2,'enc_province':col3})\n",
    "\n",
    "df=pd.concat([df,df_enc],axis=1)"
   ]
  },
  {
   "cell_type": "markdown",
   "metadata": {},
   "source": [
    "#one hot encoding\n",
    "enc = OneHotEncoder()\n",
    "X_enc = enc.fit_transform(X)\n",
    "\n",
    "X_enc"
   ]
  },
  {
   "cell_type": "markdown",
   "metadata": {},
   "source": [
    "### Train-Test-Split"
   ]
  },
  {
   "cell_type": "code",
   "execution_count": 9,
   "metadata": {},
   "outputs": [],
   "source": [
    "df['textlen']=df['description'].apply(lambda x: len(x))\n",
    "\n",
    "df=df.set_index(np.random.permutation(df.index.values)).sort_index()\n",
    "\n",
    "# Determine split index:\n",
    "split_index=int(np.round(df.shape[0]*.8))\n",
    "\n",
    "# Assign training and testing datasets based on split index\n",
    "train_df=df.iloc[:split_index,:]\n",
    "test_df=df.iloc[split_index:,:]\n",
    "\n",
    "trainX=train_df.drop(['points','price','description'],axis=1)\n",
    "trainY=train_df[['points','price','over90']]\n",
    "testX=test_df.drop(['points','price','description'],axis=1)\n",
    "testY=test_df[['points','price','over90']]"
   ]
  },
  {
   "cell_type": "markdown",
   "metadata": {},
   "source": [
    "### Random Forest Regression"
   ]
  },
  {
   "cell_type": "code",
   "execution_count": 10,
   "metadata": {},
   "outputs": [],
   "source": [
    "clf=RandomForestRegressor()\n",
    "clf.fit(trainX[['enc_country','enc_province','enc_variety','textlen']],trainY['points'])\n",
    "score=clf.score(testX[['enc_country','enc_province','enc_variety','textlen']],testY['points'])"
   ]
  },
  {
   "cell_type": "code",
   "execution_count": 11,
   "metadata": {},
   "outputs": [
    {
     "data": {
      "text/plain": [
       "0.5301941351309649"
      ]
     },
     "execution_count": 11,
     "metadata": {},
     "output_type": "execute_result"
    }
   ],
   "source": [
    "score"
   ]
  },
  {
   "cell_type": "code",
   "execution_count": null,
   "metadata": {},
   "outputs": [],
   "source": [
    "scores=[]\n",
    "d=[50,100,200,300,400,500]\n",
    "l=[5,10,20]\n",
    "for depth in d:\n",
    "    for leaves in l:\n",
    "        clf=RandomForestRegressor(max_depth=depth,min_samples_leaf=leaves)\n",
    "        clf.fit(trainX[['enc_province','enc_variety','textlen']],trainY['points'])\n",
    "        score=clf.score(testX[['enc_province','enc_variety','textlen']],testY['points'])\n",
    "        scores.append((depth,leaves,score))\n",
    "        print(depth,leaves,score)"
   ]
  },
  {
   "cell_type": "markdown",
   "metadata": {},
   "source": [
    "### Random Forest Classifier"
   ]
  },
  {
   "cell_type": "code",
   "execution_count": 43,
   "metadata": {},
   "outputs": [],
   "source": [
    "rfc=RandomForestClassifier(criterion='entropy')"
   ]
  },
  {
   "cell_type": "code",
   "execution_count": 44,
   "metadata": {},
   "outputs": [
    {
     "data": {
      "text/plain": [
       "RandomForestClassifier(bootstrap=True, class_weight=None, criterion='entropy',\n",
       "            max_depth=None, max_features='auto', max_leaf_nodes=None,\n",
       "            min_impurity_decrease=0.0, min_impurity_split=None,\n",
       "            min_samples_leaf=1, min_samples_split=2,\n",
       "            min_weight_fraction_leaf=0.0, n_estimators=10, n_jobs=1,\n",
       "            oob_score=False, random_state=None, verbose=0,\n",
       "            warm_start=False)"
      ]
     },
     "execution_count": 44,
     "metadata": {},
     "output_type": "execute_result"
    }
   ],
   "source": [
    "rfc.fit(trainX[['enc_country','enc_province','enc_variety','textlen']],trainY['over90'])"
   ]
  },
  {
   "cell_type": "code",
   "execution_count": 45,
   "metadata": {},
   "outputs": [
    {
     "data": {
      "text/plain": [
       "0.7935386258454966"
      ]
     },
     "execution_count": 45,
     "metadata": {},
     "output_type": "execute_result"
    }
   ],
   "source": [
    "rfc.score(testX[['enc_country','enc_province','enc_variety','textlen']],testY['over90'])"
   ]
  },
  {
   "cell_type": "code",
   "execution_count": 46,
   "metadata": {},
   "outputs": [
    {
     "data": {
      "image/png": "[encoded data removed]",
      "text/plain": [
       "<Figure size 432x288 with 1 Axes>"
      ]
     },
     "metadata": {},
     "output_type": "display_data"
    }
   ],
   "source": [
    "plotAUC(testY['over90'],rfc.predict(testX[['enc_country','enc_province','enc_variety','textlen']]),'RFC')"
   ]
  },
  {
   "cell_type": "code",
   "execution_count": 66,
   "metadata": {},
   "outputs": [],
   "source": [
    "rfc_preds=rfc.predict(testX[['enc_country','enc_province','enc_variety','textlen']])"
   ]
  },
  {
   "cell_type": "markdown",
   "metadata": {},
   "source": [
    "## Gradient Boosted Classifier"
   ]
  },
  {
   "cell_type": "code",
   "execution_count": 47,
   "metadata": {},
   "outputs": [],
   "source": [
    "gbc=GradientBoostingClassifier()"
   ]
  },
  {
   "cell_type": "code",
   "execution_count": 48,
   "metadata": {},
   "outputs": [
    {
     "data": {
      "text/plain": [
       "GradientBoostingClassifier(criterion='friedman_mse', init=None,\n",
       "              learning_rate=0.1, loss='deviance', max_depth=3,\n",
       "              max_features=None, max_leaf_nodes=None,\n",
       "              min_impurity_decrease=0.0, min_impurity_split=None,\n",
       "              min_samples_leaf=1, min_samples_split=2,\n",
       "              min_weight_fraction_leaf=0.0, n_estimators=100,\n",
       "              presort='auto', random_state=None, subsample=1.0, verbose=0,\n",
       "              warm_start=False)"
      ]
     },
     "execution_count": 48,
     "metadata": {},
     "output_type": "execute_result"
    }
   ],
   "source": [
    "gbc.fit(trainX[['enc_country','enc_province','enc_variety','textlen']],trainY['over90'])"
   ]
  },
  {
   "cell_type": "code",
   "execution_count": 49,
   "metadata": {},
   "outputs": [
    {
     "data": {
      "text/plain": [
       "0.7563011747953008"
      ]
     },
     "execution_count": 49,
     "metadata": {},
     "output_type": "execute_result"
    }
   ],
   "source": [
    "gbc.score(testX[['enc_country','enc_province','enc_variety','textlen']],testY['over90'])"
   ]
  },
  {
   "cell_type": "code",
   "execution_count": 50,
   "metadata": {},
   "outputs": [
    {
     "data": {
      "image/png": "[encoded data removed]",
      "text/plain": [
       "<Figure size 432x288 with 1 Axes>"
      ]
     },
     "metadata": {},
     "output_type": "display_data"
    }
   ],
   "source": [
    "plotAUC(testY['over90'],gbc.predict(testX[['enc_country','enc_province','enc_variety','textlen']]),'GB')"
   ]
  },
  {
   "cell_type": "code",
   "execution_count": 67,
   "metadata": {},
   "outputs": [],
   "source": [
    "gbc_preds=gbc.predict(testX[['enc_country','enc_province','enc_variety','textlen']])"
   ]
  },
  {
   "cell_type": "markdown",
   "metadata": {},
   "source": [
    "## SVM - VERY time consuming"
   ]
  },
  {
   "cell_type": "code",
   "execution_count": 93,
   "metadata": {},
   "outputs": [],
   "source": [
    "clf = svm.SVC(kernel='rbf')"
   ]
  },
  {
   "cell_type": "code",
   "execution_count": null,
   "metadata": {},
   "outputs": [],
   "source": [
    "clf.fit(trainX[['enc_country','enc_province','enc_variety','textlen']],trainY['over90'])  "
   ]
  },
  {
   "cell_type": "code",
   "execution_count": 78,
   "metadata": {},
   "outputs": [],
   "source": [
    "preds=clf.predict(testX[['enc_country','enc_province','enc_variety','textlen']])"
   ]
  },
  {
   "cell_type": "code",
   "execution_count": 80,
   "metadata": {
    "scrolled": true
   },
   "outputs": [
    {
     "data": {
      "text/plain": [
       "0.7334384858044164"
      ]
     },
     "execution_count": 80,
     "metadata": {},
     "output_type": "execute_result"
    }
   ],
   "source": [
    "sum(preds==testY['over90'])/len(testY['over90'])"
   ]
  },
  {
   "cell_type": "code",
   "execution_count": 84,
   "metadata": {},
   "outputs": [],
   "source": [
    "q=df['over90'].value_counts().values"
   ]
  },
  {
   "cell_type": "code",
   "execution_count": 86,
   "metadata": {},
   "outputs": [
    {
     "data": {
      "text/plain": [
       "0.6226465903932416"
      ]
     },
     "execution_count": 86,
     "metadata": {},
     "output_type": "execute_result"
    }
   ],
   "source": [
    "q[0]/sum(q)"
   ]
  },
  {
   "cell_type": "code",
   "execution_count": 88,
   "metadata": {},
   "outputs": [
    {
     "data": {
      "text/plain": [
       "0.29745325844425635"
      ]
     },
     "execution_count": 88,
     "metadata": {},
     "output_type": "execute_result"
    }
   ],
   "source": [
    "plot_AUC()"
   ]
  },
  {
   "cell_type": "markdown",
   "metadata": {},
   "source": [
    "## KNN"
   ]
  },
  {
   "cell_type": "code",
   "execution_count": 51,
   "metadata": {},
   "outputs": [],
   "source": [
    "knn = KNeighborsClassifier(n_neighbors=5)\n",
    "\n",
    "knn.fit(trainX[['enc_country','enc_province','enc_variety','textlen']],trainY['over90'])\n",
    "\n",
    "knn.score(testX[['enc_country','enc_province','enc_variety','textlen']],testY['over90'])"
   ]
  },
  {
   "cell_type": "code",
   "execution_count": 54,
   "metadata": {},
   "outputs": [
    {
     "data": {
      "image/png": "[encoded data removed]",
      "text/plain": [
       "<Figure size 432x288 with 1 Axes>"
      ]
     },
     "metadata": {},
     "output_type": "display_data"
    }
   ],
   "source": [
    "plotAUC(testY['over90'],knn.predict(testX[['enc_country','enc_province','enc_variety','textlen']]),'KNN')"
   ]
  },
  {
   "cell_type": "code",
   "execution_count": 68,
   "metadata": {},
   "outputs": [],
   "source": [
    "knn_preds=knn.predict(testX[['enc_country','enc_province','enc_variety','textlen']])"
   ]
  },
  {
   "cell_type": "markdown",
   "metadata": {},
   "source": [
    "### Logistig Regression"
   ]
  },
  {
   "cell_type": "code",
   "execution_count": 92,
   "metadata": {},
   "outputs": [
    {
     "data": {
      "text/plain": [
       "0.7245461018155928"
      ]
     },
     "execution_count": 92,
     "metadata": {},
     "output_type": "execute_result"
    }
   ],
   "source": [
    "lr = LogisticRegression()\n",
    "\n",
    "lr.fit(trainX[['enc_country','enc_province','enc_variety','textlen']],trainY['over90'])\n",
    "\n",
    "lr.score(testX[['enc_country','enc_province','enc_variety','textlen']],testY['over90'])"
   ]
  },
  {
   "cell_type": "code",
   "execution_count": 88,
   "metadata": {},
   "outputs": [
    {
     "data": {
      "image/png": "[encoded data removed]",
      "text/plain": [
       "<Figure size 432x288 with 1 Axes>"
      ]
     },
     "metadata": {},
     "output_type": "display_data"
    }
   ],
   "source": [
    "plotAUC(testY['over90'],lr.predict(testX[['enc_country','enc_province','enc_variety','textlen']]),'LogReg')"
   ]
  },
  {
   "cell_type": "code",
   "execution_count": 89,
   "metadata": {},
   "outputs": [],
   "source": [
    "lr_preds=lr.predict(testX[['enc_country','enc_province','enc_variety','textlen']])"
   ]
  },
  {
   "cell_type": "markdown",
   "metadata": {},
   "source": [
    "### To add later ? Analyze how/why rfc, gbc, and knn prediction are different?"
   ]
  },
  {
   "cell_type": "code",
   "execution_count": 91,
   "metadata": {},
   "outputs": [
    {
     "name": "stdout",
     "output_type": "stream",
     "text": [
      "RFC and GBC make 82.29% similar predictions\n",
      "RFC and KNN make 87.30% similar predictions\n",
      "RFC and LR make 77.08% similar predictions\n",
      "GBC and KNN make 80.77% similar predictions\n",
      "GBC and LR make 87.27% similar predictions\n",
      "KNN and LR make 76.61% similar predictions\n"
     ]
    }
   ],
   "source": [
    "print('RFC and GBC make {0:.2f}% similar predictions'.format(100*sum(rfc_preds==gbc_preds)/len(testY['over90'])))\n",
    "print('RFC and KNN make {0:.2f}% similar predictions'.format(100*sum(rfc_preds==knn_preds)/len(testY['over90'])))\n",
    "print('RFC and LR make {0:.2f}% similar predictions'.format(100*sum(rfc_preds==lr_preds)/len(testY['over90'])))\n",
    "print('GBC and KNN make {0:.2f}% similar predictions'.format(100*sum(gbc_preds==knn_preds)/len(testY['over90'])))\n",
    "print('GBC and LR make {0:.2f}% similar predictions'.format(100*sum(gbc_preds==lr_preds)/len(testY['over90'])))\n",
    "print('KNN and LR make {0:.2f}% similar predictions'.format(100*sum(knn_preds==lr_preds)/len(testY['over90'])))"
   ]
  }
 ],
 "metadata": {
  "kernelspec": {
   "display_name": "Python [default]",
   "language": "python",
   "name": "python3"
  },
  "language_info": {
   "codemirror_mode": {
    "name": "ipython",
    "version": 3
   },
   "file_extension": ".py",
   "mimetype": "text/x-python",
   "name": "python",
   "nbconvert_exporter": "python",
   "pygments_lexer": "ipython3",
   "version": "3.6.4"
  }
 },
 "nbformat": 4,
 "nbformat_minor": 2
}
