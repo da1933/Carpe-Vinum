{
 "cells": [
  {
   "cell_type": "code",
   "execution_count": 9,
   "metadata": {},
   "outputs": [],
   "source": [
    "'''Outputs a df of words that appear in the reviews sorted by counts, excluding many common words.'''\n",
    "\n",
    "#directory='c:/users/da1933/desktop/cds/ids_project/'\n",
    "directory='~/desktop/idsproject/'\n",
    "\n",
    "import pandas as pd\n",
    "from collections import Counter\n",
    "import numpy as np\n",
    "\n",
    "# Load and combine datasets\n",
    "df1=pd.read_csv(directory+'wine/winemag-data-130k-v2.csv',index_col=0)\n",
    "df2=pd.read_csv(directory+'wine/winemag-data_first150k.csv',index_col=0)\n",
    "df=pd.concat([df1.drop(['taster_name','taster_twitter_handle','title'],axis=1),df2]).reset_index(drop=True)\n",
    "\n",
    "# Create dictionary to store counter objects\n",
    "cdict={i:[] for i in range(int(np.round(df.shape[0]/1000)))}\n",
    "\n",
    "# counters are created in batches of size 1000 because looping through\n",
    "# entire df is very slow.\n",
    "\n",
    "start=0\n",
    "target=1000\n",
    "\n",
    "for i in cdict.keys():\n",
    "    counter=Counter()\n",
    "    for description in df['description'][start:target]:\n",
    "        new_counter=Counter(description.replace('.','').replace(',','').lower().split())\n",
    "        counter=counter+new_counter\n",
    "    start+=1000\n",
    "    target+=1000\n",
    "    cdict[i].append(counter)\n",
    "\n",
    "bigcounter=Counter()\n",
    "\n",
    "# Combine individual counters and convert to df\n",
    "for i in cdict.keys():\n",
    "    bigcounter=bigcounter+cdict[i][0]\n",
    "all_counts=pd.DataFrame.from_dict(dict(bigcounter),orient='index').sort_values(by=0,ascending=False).reset_index()\n",
    "\n",
    "# Remove some of the most common words\n",
    "common=['and','the','a','of','with','this','is','wine','in','it','to','on','that','from','but',\"it's\",\n",
    "        'are','has','for','by','as','an','its','now','offers','while','shows','through','well','at','very',\n",
    "        'more','some','will','not','out','up','or','be','all','made','also','note','just','into','there',\n",
    "        'like','bit','still','long','give',\"there's\",'so','alongside','along','over','ready','which','one',\n",
    "        'yet','than','time','almost','little','you','intense','come']\n",
    "all_counts=all_counts[~all_counts['index'].isin(common)]\n",
    "\n",
    "all_counts.to_csv('word_counts.csv',index=False)"
   ]
  }
 ],
 "metadata": {
  "kernelspec": {
   "display_name": "Python 3",
   "language": "python",
   "name": "python3"
  },
  "language_info": {
   "codemirror_mode": {
    "name": "ipython",
    "version": 3
   },
   "file_extension": ".py",
   "mimetype": "text/x-python",
   "name": "python",
   "nbconvert_exporter": "python",
   "pygments_lexer": "ipython3",
   "version": "3.6.5"
  }
 },
 "nbformat": 4,
 "nbformat_minor": 2
}
