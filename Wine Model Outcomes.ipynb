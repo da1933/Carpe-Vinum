{
 "cells": [
  {
   "cell_type": "code",
   "execution_count": 1,
   "metadata": {},
   "outputs": [],
   "source": [
    "import pandas as pd\n",
    "import numpy as np\n",
    "from sklearn.preprocessing import LabelEncoder, OneHotEncoder, MultiLabelBinarizer, scale\n",
    "from sklearn.metrics import roc_auc_score, roc_curve, auc, mean_squared_error\n",
    "from sklearn.ensemble import RandomForestRegressor, RandomForestClassifier, GradientBoostingClassifier\n",
    "import seaborn as sns\n",
    "import matplotlib.pyplot as plt\n",
    "%matplotlib inline\n",
    "import warnings\n",
    "warnings.simplefilter(action='ignore', category=FutureWarning)\n",
    "\n",
    "import pickle"
   ]
  },
  {
   "cell_type": "code",
   "execution_count": 90,
   "metadata": {},
   "outputs": [],
   "source": [
    "#directory='c:/users/da1933/desktop/cds/ids_project/'\n",
    "directory='~/desktop/idsproject/'\n",
    "\n",
    "df1=pd.read_csv(directory+'wine/winemag-data-130k-v2.csv',index_col=0)\n",
    "#df=pd.read_csv(directory+'wine/winemag-data-130k-v2.csv',index_col=0)\n",
    "#df=df.drop(['taster_name','taster_twitter_handle','title'],axis=1)\n",
    "df2=pd.read_csv(directory+'wine/winemag-data_first150k.csv',index_col=0)\n",
    "df=pd.concat([df1.drop(['taster_name','taster_twitter_handle','title'],axis=1),df2]).reset_index(drop=True)"
   ]
  },
  {
   "cell_type": "code",
   "execution_count": 91,
   "metadata": {},
   "outputs": [
    {
     "name": "stderr",
     "output_type": "stream",
     "text": [
      "/Users/danielamaranto/anaconda/lib/python3.6/site-packages/ipykernel_launcher.py:4: DataConversionWarning: Data with input dtype int64 were all converted to float64 by the scale function.\n",
      "  after removing the cwd from sys.path.\n"
     ]
    }
   ],
   "source": [
    "df['over90']=df['points'].apply(lambda x: 1 if x>=90 else 0)\n",
    "df['designation']=df['designation'].fillna('missing')\n",
    "df['textlen']=df['description'].apply(lambda x: len(x))\n",
    "df['textlen']=scale(df[['textlen']])\n",
    "df['original_price']=df['price']\n",
    "df['price']=df['price'].fillna(np.mean(df['price']))\n",
    "df['price']=scale(df[['price']])"
   ]
  },
  {
   "cell_type": "code",
   "execution_count": 110,
   "metadata": {},
   "outputs": [
    {
     "data": {
      "text/plain": [
       "97255"
      ]
     },
     "execution_count": 110,
     "metadata": {},
     "output_type": "execute_result"
    }
   ],
   "source": [
    "df[df['points']>=90].shape[0]"
   ]
  },
  {
   "cell_type": "code",
   "execution_count": 111,
   "metadata": {},
   "outputs": [
    {
     "data": {
      "text/plain": [
       "183646"
      ]
     },
     "execution_count": 111,
     "metadata": {},
     "output_type": "execute_result"
    }
   ],
   "source": [
    "df[df['points']<90].shape[0]"
   ]
  },
  {
   "cell_type": "code",
   "execution_count": 109,
   "metadata": {},
   "outputs": [
    {
     "data": {
      "text/plain": [
       "[<matplotlib.lines.Line2D at 0x1a23be3cc0>]"
      ]
     },
     "execution_count": 109,
     "metadata": {},
     "output_type": "execute_result"
    },
    {
     "data": {
      "image/png": "[encoded data removed]",
      "text/plain": [
       "<Figure size 432x288 with 1 Axes>"
      ]
     },
     "metadata": {
      "needs_background": "light"
     },
     "output_type": "display_data"
    }
   ],
   "source": [
    "plt.plot(df.groupby(['points']).count()['country'])"
   ]
  },
  {
   "cell_type": "code",
   "execution_count": 114,
   "metadata": {},
   "outputs": [
    {
     "data": {
      "text/plain": [
       "count    170367.000000\n",
       "mean         24.235503\n",
       "std          18.665990\n",
       "min           4.000000\n",
       "25%          14.000000\n",
       "50%          20.000000\n",
       "75%          29.000000\n",
       "max        3300.000000\n",
       "Name: original_price, dtype: float64"
      ]
     },
     "execution_count": 114,
     "metadata": {},
     "output_type": "execute_result"
    }
   ],
   "source": [
    "df[df['points']<90]['original_price'].describe()"
   ]
  },
  {
   "cell_type": "code",
   "execution_count": 113,
   "metadata": {},
   "outputs": [
    {
     "data": {
      "text/plain": [
       "count    87843.000000\n",
       "mean        53.458500\n",
       "std         56.063728\n",
       "min          5.000000\n",
       "25%         28.000000\n",
       "50%         42.000000\n",
       "75%         60.000000\n",
       "max       2500.000000\n",
       "Name: original_price, dtype: float64"
      ]
     },
     "execution_count": 113,
     "metadata": {},
     "output_type": "execute_result"
    }
   ],
   "source": [
    "df[df['points']>=90]['original_price'].describe()"
   ]
  },
  {
   "cell_type": "code",
   "execution_count": 106,
   "metadata": {
    "scrolled": false
   },
   "outputs": [
    {
     "name": "stdout",
     "output_type": "stream",
     "text": [
      "80 count    1278.000000\n",
      "mean       16.960876\n",
      "std         9.724959\n",
      "min         5.000000\n",
      "25%        10.000000\n",
      "50%        14.000000\n",
      "75%        20.000000\n",
      "max        80.000000\n",
      "Name: original_price, dtype: float64 \n",
      "\n",
      "81 count    2149.000000\n",
      "mean       17.512331\n",
      "std        14.844836\n",
      "min         5.000000\n",
      "25%        10.000000\n",
      "50%        14.000000\n",
      "75%        20.000000\n",
      "max       354.000000\n",
      "Name: original_price, dtype: float64 \n",
      "\n",
      "82 count    5705.000000\n",
      "mean       19.078352\n",
      "std        11.321175\n",
      "min         4.000000\n",
      "25%        11.000000\n",
      "50%        16.000000\n",
      "75%        24.000000\n",
      "max       150.000000\n",
      "Name: original_price, dtype: float64 \n",
      "\n",
      "83 count    8693.000000\n",
      "mean       18.087887\n",
      "std        11.667382\n",
      "min         4.000000\n",
      "25%        11.000000\n",
      "50%        15.000000\n",
      "75%        22.000000\n",
      "max       225.000000\n",
      "Name: original_price, dtype: float64 \n",
      "\n",
      "84 count    16219.000000\n",
      "mean        19.346199\n",
      "std         13.007238\n",
      "min          4.000000\n",
      "25%         12.000000\n",
      "50%         15.000000\n",
      "75%         23.000000\n",
      "max        225.000000\n",
      "Name: original_price, dtype: float64 \n",
      "\n",
      "85 count    20506.000000\n",
      "mean        20.009266\n",
      "std         13.281699\n",
      "min          4.000000\n",
      "25%         12.000000\n",
      "50%         16.000000\n",
      "75%         24.000000\n",
      "max        320.000000\n",
      "Name: original_price, dtype: float64 \n",
      "\n",
      "86 count    26096.000000\n",
      "mean        21.959304\n",
      "std         14.247368\n",
      "min          4.000000\n",
      "25%         13.000000\n",
      "50%         18.000000\n",
      "75%         26.000000\n",
      "max        495.000000\n",
      "Name: original_price, dtype: float64 \n",
      "\n",
      "87 count    34792.000000\n",
      "mean        24.730398\n",
      "std         16.880842\n",
      "min          5.000000\n",
      "25%         15.000000\n",
      "50%         20.000000\n",
      "75%         30.000000\n",
      "max        800.000000\n",
      "Name: original_price, dtype: float64 \n",
      "\n",
      "88 count    32048.000000\n",
      "mean        28.259143\n",
      "std         25.343902\n",
      "min          6.000000\n",
      "25%         17.000000\n",
      "50%         24.000000\n",
      "75%         35.000000\n",
      "max       3300.000000\n",
      "Name: original_price, dtype: float64 \n",
      "\n",
      "89 count    22881.000000\n",
      "mean        32.355885\n",
      "std         22.049310\n",
      "min          7.000000\n",
      "25%         19.000000\n",
      "50%         26.000000\n",
      "75%         40.000000\n",
      "max        500.000000\n",
      "Name: original_price, dtype: float64 \n",
      "\n",
      "90 count    28765.000000\n",
      "mean        37.132557\n",
      "std         24.245395\n",
      "min          5.000000\n",
      "25%         22.000000\n",
      "50%         30.000000\n",
      "75%         45.000000\n",
      "max        535.000000\n",
      "Name: original_price, dtype: float64 \n",
      "\n",
      "91 count    19775.000000\n",
      "mean        43.471858\n",
      "std         32.909319\n",
      "min          7.000000\n",
      "25%         26.000000\n",
      "50%         38.000000\n",
      "75%         52.000000\n",
      "max       2013.000000\n",
      "Name: original_price, dtype: float64 \n",
      "\n",
      "92 count    16990.000000\n",
      "mean        51.642672\n",
      "std         32.852426\n",
      "min         11.000000\n",
      "25%         32.000000\n",
      "50%         45.000000\n",
      "75%         60.000000\n",
      "max        750.000000\n",
      "Name: original_price, dtype: float64 \n",
      "\n",
      "93 count    11132.000000\n",
      "mean        64.659001\n",
      "std         45.842398\n",
      "min         12.000000\n",
      "25%         40.000000\n",
      "50%         54.000000\n",
      "75%         75.000000\n",
      "max        770.000000\n",
      "Name: original_price, dtype: float64 \n",
      "\n",
      "94 count    6456.000000\n",
      "mean       81.670229\n",
      "std        69.895244\n",
      "min        13.000000\n",
      "25%        47.000000\n",
      "50%        63.000000\n",
      "75%        92.000000\n",
      "max      1125.000000\n",
      "Name: original_price, dtype: float64 \n",
      "\n",
      "95 count    2872.000000\n",
      "mean      109.077994\n",
      "std        98.758018\n",
      "min        20.000000\n",
      "25%        55.000000\n",
      "50%        75.000000\n",
      "75%       120.000000\n",
      "max       973.000000\n",
      "Name: original_price, dtype: float64 \n",
      "\n",
      "96 count    1049.000000\n",
      "mean      144.730219\n",
      "std       181.275418\n",
      "min        20.000000\n",
      "25%        65.000000\n",
      "50%        90.000000\n",
      "75%       150.000000\n",
      "max      2500.000000\n",
      "Name: original_price, dtype: float64 \n",
      "\n",
      "97 count     510.000000\n",
      "mean      189.841176\n",
      "std       182.847302\n",
      "min        35.000000\n",
      "25%        85.000000\n",
      "50%       125.000000\n",
      "75%       229.000000\n",
      "max      2000.000000\n",
      "Name: original_price, dtype: float64 \n",
      "\n",
      "98 count     183.000000\n",
      "mean      237.169399\n",
      "std       259.967578\n",
      "min        50.000000\n",
      "25%        94.500000\n",
      "50%       135.000000\n",
      "75%       289.000000\n",
      "max      1900.000000\n",
      "Name: original_price, dtype: float64 \n",
      "\n",
      "99 count      68.000000\n",
      "mean      287.338235\n",
      "std       298.088167\n",
      "min        44.000000\n",
      "25%       136.250000\n",
      "50%       237.000000\n",
      "75%       336.250000\n",
      "max      2300.000000\n",
      "Name: original_price, dtype: float64 \n",
      "\n",
      "100 count      43.000000\n",
      "mean      438.860465\n",
      "std       413.464548\n",
      "min        65.000000\n",
      "25%       200.000000\n",
      "50%       270.000000\n",
      "75%       460.000000\n",
      "max      1500.000000\n",
      "Name: original_price, dtype: float64 \n",
      "\n"
     ]
    }
   ],
   "source": [
    "for i in range(80,101):\n",
    "    print(i,df[df['points']==i]['original_price'].describe(),'\\n')"
   ]
  },
  {
   "cell_type": "code",
   "execution_count": 100,
   "metadata": {},
   "outputs": [
    {
     "data": {
      "text/html": [
       "<div>\n",
       "<style scoped>\n",
       "    .dataframe tbody tr th:only-of-type {\n",
       "        vertical-align: middle;\n",
       "    }\n",
       "\n",
       "    .dataframe tbody tr th {\n",
       "        vertical-align: top;\n",
       "    }\n",
       "\n",
       "    .dataframe thead th {\n",
       "        text-align: right;\n",
       "    }\n",
       "</style>\n",
       "<table border=\"1\" class=\"dataframe\">\n",
       "  <thead>\n",
       "    <tr style=\"text-align: right;\">\n",
       "      <th></th>\n",
       "      <th></th>\n",
       "      <th>description</th>\n",
       "      <th>designation</th>\n",
       "      <th>original_price</th>\n",
       "      <th>winery</th>\n",
       "    </tr>\n",
       "    <tr>\n",
       "      <th>over90</th>\n",
       "      <th>points</th>\n",
       "      <th></th>\n",
       "      <th></th>\n",
       "      <th></th>\n",
       "      <th></th>\n",
       "    </tr>\n",
       "  </thead>\n",
       "  <tbody>\n",
       "    <tr>\n",
       "      <th rowspan=\"10\" valign=\"top\">0</th>\n",
       "      <th>80</th>\n",
       "      <td>“Wine for Seafood” is a Trebbiano-based wine f...</td>\n",
       "      <td>“Champ” Jim the Gent</td>\n",
       "      <td>80.0</td>\n",
       "      <td>oops</td>\n",
       "    </tr>\n",
       "    <tr>\n",
       "      <th>81</th>\n",
       "      <td>“Wine for a new world” says the wine's tagline...</td>\n",
       "      <td>“Champ” Lightnin' Lane</td>\n",
       "      <td>354.0</td>\n",
       "      <td>flipflop</td>\n",
       "    </tr>\n",
       "    <tr>\n",
       "      <th>82</th>\n",
       "      <td>“Fronty” is an old Australian term for Muscat ...</td>\n",
       "      <td>À Côté Santa Barbara Highlands Vineyard</td>\n",
       "      <td>150.0</td>\n",
       "      <td>Ñandú</td>\n",
       "    </tr>\n",
       "    <tr>\n",
       "      <th>83</th>\n",
       "      <td>“Pannobile” is a designation being used by Bur...</td>\n",
       "      <td>À Côté</td>\n",
       "      <td>225.0</td>\n",
       "      <td>Ébano</td>\n",
       "    </tr>\n",
       "    <tr>\n",
       "      <th>84</th>\n",
       "      <td>“The Three Young Ladies”––Viognier, Roussanne ...</td>\n",
       "      <td>Ürziger Würzgarten Auslese</td>\n",
       "      <td>225.0</td>\n",
       "      <td>Ébano</td>\n",
       "    </tr>\n",
       "    <tr>\n",
       "      <th>85</th>\n",
       "      <td>“Pear” sums up the most obvious component of t...</td>\n",
       "      <td>ía Crianza</td>\n",
       "      <td>320.0</td>\n",
       "      <td>Único Luis Miguel</td>\n",
       "    </tr>\n",
       "    <tr>\n",
       "      <th>86</th>\n",
       "      <td>“T” is a no-fuss Friulano (a native grape of n...</td>\n",
       "      <td>Über Cuvée</td>\n",
       "      <td>495.0</td>\n",
       "      <td>Ñandú</td>\n",
       "    </tr>\n",
       "    <tr>\n",
       "      <th>87</th>\n",
       "      <td>“Vecio Belo,” which is Venetian for “old” and ...</td>\n",
       "      <td>Ürziger Würzgarten Kabinett</td>\n",
       "      <td>800.0</td>\n",
       "      <td>áster</td>\n",
       "    </tr>\n",
       "    <tr>\n",
       "      <th>88</th>\n",
       "      <td>“Won't cost you an arm and a leg” is Fat Croc'...</td>\n",
       "      <td>Župska</td>\n",
       "      <td>3300.0</td>\n",
       "      <td>Štoka</td>\n",
       "    </tr>\n",
       "    <tr>\n",
       "      <th>89</th>\n",
       "      <td>“Vif” is a French word that loosely translates...</td>\n",
       "      <td>‘Rough Justice' Red</td>\n",
       "      <td>500.0</td>\n",
       "      <td>àMaurice</td>\n",
       "    </tr>\n",
       "    <tr>\n",
       "      <th rowspan=\"11\" valign=\"top\">1</th>\n",
       "      <th>90</th>\n",
       "      <td>“Swan Song” indicates that this is the last vi...</td>\n",
       "      <td>étoile Brut</td>\n",
       "      <td>535.0</td>\n",
       "      <td>Štoka</td>\n",
       "    </tr>\n",
       "    <tr>\n",
       "      <th>91</th>\n",
       "      <td>“L'Homme Mort,” which is French for “the dead ...</td>\n",
       "      <td>Ürziger Würzgarten Spätlese</td>\n",
       "      <td>2013.0</td>\n",
       "      <td>àMaurice</td>\n",
       "    </tr>\n",
       "    <tr>\n",
       "      <th>92</th>\n",
       "      <td>“Wow” is the first word that comes to mind whe...</td>\n",
       "      <td>‘S'</td>\n",
       "      <td>750.0</td>\n",
       "      <td>àMaurice</td>\n",
       "    </tr>\n",
       "    <tr>\n",
       "      <th>93</th>\n",
       "      <td>“Old vines” here means more than 20 years. But...</td>\n",
       "      <td>Ürziger Würzgarten Spätlese</td>\n",
       "      <td>770.0</td>\n",
       "      <td>àMaurice</td>\n",
       "    </tr>\n",
       "    <tr>\n",
       "      <th>94</th>\n",
       "      <td>Zinfandel isn't ordinarily a wine you want to ...</td>\n",
       "      <td>Ürziger Würzgarten Beerenauslese</td>\n",
       "      <td>1125.0</td>\n",
       "      <td>àMaurice</td>\n",
       "    </tr>\n",
       "    <tr>\n",
       "      <th>95</th>\n",
       "      <td>‘The Beautiful' lives up to its name and reput...</td>\n",
       "      <td>Ürziger Würzgarten Spätlese</td>\n",
       "      <td>973.0</td>\n",
       "      <td>Ökonomierat Rebholz</td>\n",
       "    </tr>\n",
       "    <tr>\n",
       "      <th>96</th>\n",
       "      <td>Youthfully flippant, this block of the Wayfare...</td>\n",
       "      <td>Ürziger Würzgarten Auslese * * * Goldkap</td>\n",
       "      <td>2500.0</td>\n",
       "      <td>Zaca Mesa</td>\n",
       "    </tr>\n",
       "    <tr>\n",
       "      <th>97</th>\n",
       "      <td>“For me, this vintage is what makes Margaux sp...</td>\n",
       "      <td>missing</td>\n",
       "      <td>2000.0</td>\n",
       "      <td>Yao Ming</td>\n",
       "    </tr>\n",
       "    <tr>\n",
       "      <th>98</th>\n",
       "      <td>With this wine, Dolce cements its status as Ca...</td>\n",
       "      <td>missing</td>\n",
       "      <td>1900.0</td>\n",
       "      <td>Yao Ming</td>\n",
       "    </tr>\n",
       "    <tr>\n",
       "      <th>99</th>\n",
       "      <td>This wine is dark brown in hue with a greenish...</td>\n",
       "      <td>missing</td>\n",
       "      <td>2300.0</td>\n",
       "      <td>Williams Selyem</td>\n",
       "    </tr>\n",
       "    <tr>\n",
       "      <th>100</th>\n",
       "      <td>This wine dazzles with perfection. Sourced fro...</td>\n",
       "      <td>missing</td>\n",
       "      <td>1500.0</td>\n",
       "      <td>Williams Selyem</td>\n",
       "    </tr>\n",
       "  </tbody>\n",
       "</table>\n",
       "</div>"
      ],
      "text/plain": [
       "                                                     description  \\\n",
       "over90 points                                                      \n",
       "0      80      “Wine for Seafood” is a Trebbiano-based wine f...   \n",
       "       81      “Wine for a new world” says the wine's tagline...   \n",
       "       82      “Fronty” is an old Australian term for Muscat ...   \n",
       "       83      “Pannobile” is a designation being used by Bur...   \n",
       "       84      “The Three Young Ladies”––Viognier, Roussanne ...   \n",
       "       85      “Pear” sums up the most obvious component of t...   \n",
       "       86      “T” is a no-fuss Friulano (a native grape of n...   \n",
       "       87      “Vecio Belo,” which is Venetian for “old” and ...   \n",
       "       88      “Won't cost you an arm and a leg” is Fat Croc'...   \n",
       "       89      “Vif” is a French word that loosely translates...   \n",
       "1      90      “Swan Song” indicates that this is the last vi...   \n",
       "       91      “L'Homme Mort,” which is French for “the dead ...   \n",
       "       92      “Wow” is the first word that comes to mind whe...   \n",
       "       93      “Old vines” here means more than 20 years. But...   \n",
       "       94      Zinfandel isn't ordinarily a wine you want to ...   \n",
       "       95      ‘The Beautiful' lives up to its name and reput...   \n",
       "       96      Youthfully flippant, this block of the Wayfare...   \n",
       "       97      “For me, this vintage is what makes Margaux sp...   \n",
       "       98      With this wine, Dolce cements its status as Ca...   \n",
       "       99      This wine is dark brown in hue with a greenish...   \n",
       "       100     This wine dazzles with perfection. Sourced fro...   \n",
       "\n",
       "                                            designation  original_price  \\\n",
       "over90 points                                                             \n",
       "0      80                          “Champ” Jim the Gent            80.0   \n",
       "       81                        “Champ” Lightnin' Lane           354.0   \n",
       "       82       À Côté Santa Barbara Highlands Vineyard           150.0   \n",
       "       83                                        À Côté           225.0   \n",
       "       84                    Ürziger Würzgarten Auslese           225.0   \n",
       "       85                                    ía Crianza           320.0   \n",
       "       86                                    Über Cuvée           495.0   \n",
       "       87                   Ürziger Würzgarten Kabinett           800.0   \n",
       "       88                                        Župska          3300.0   \n",
       "       89                           ‘Rough Justice' Red           500.0   \n",
       "1      90                                   étoile Brut           535.0   \n",
       "       91                   Ürziger Würzgarten Spätlese          2013.0   \n",
       "       92                                           ‘S'           750.0   \n",
       "       93                   Ürziger Würzgarten Spätlese           770.0   \n",
       "       94              Ürziger Würzgarten Beerenauslese          1125.0   \n",
       "       95                   Ürziger Würzgarten Spätlese           973.0   \n",
       "       96      Ürziger Würzgarten Auslese * * * Goldkap          2500.0   \n",
       "       97                                       missing          2000.0   \n",
       "       98                                       missing          1900.0   \n",
       "       99                                       missing          2300.0   \n",
       "       100                                      missing          1500.0   \n",
       "\n",
       "                            winery  \n",
       "over90 points                       \n",
       "0      80                     oops  \n",
       "       81                 flipflop  \n",
       "       82                    Ñandú  \n",
       "       83                    Ébano  \n",
       "       84                    Ébano  \n",
       "       85        Único Luis Miguel  \n",
       "       86                    Ñandú  \n",
       "       87                    áster  \n",
       "       88                    Štoka  \n",
       "       89                 àMaurice  \n",
       "1      90                    Štoka  \n",
       "       91                 àMaurice  \n",
       "       92                 àMaurice  \n",
       "       93                 àMaurice  \n",
       "       94                 àMaurice  \n",
       "       95      Ökonomierat Rebholz  \n",
       "       96                Zaca Mesa  \n",
       "       97                 Yao Ming  \n",
       "       98                 Yao Ming  \n",
       "       99          Williams Selyem  \n",
       "       100         Williams Selyem  "
      ]
     },
     "execution_count": 100,
     "metadata": {},
     "output_type": "execute_result"
    }
   ],
   "source": [
    "df[pd.notnull(df['original_price'])].groupby(['over90','points']).max().drop(['price','textlen'],axis=1)"
   ]
  },
  {
   "cell_type": "markdown",
   "metadata": {},
   "source": [
    "### Selective Categorical Feature Encoding"
   ]
  },
  {
   "cell_type": "code",
   "execution_count": 60,
   "metadata": {},
   "outputs": [],
   "source": [
    "varietals=df['variety'].value_counts().reset_index().rename(columns={'index':'Grape','variety':'Count'})\n",
    "varieties=set(varietals[varietals['Count']>2500]['Grape'])\n",
    "df['variety']=df['variety'].apply(lambda x: x if x in varieties else 'Other')\n",
    "df['country']=df['country'].fillna('Other')\n",
    "df['country']=df['country'].replace('US-France','Other')\n",
    "\n",
    "continents=pickle.load(open('continents.sav','rb'))\n",
    "\n",
    "df['continent']=df['country'].map(continents)"
   ]
  },
  {
   "cell_type": "code",
   "execution_count": 61,
   "metadata": {
    "scrolled": false
   },
   "outputs": [],
   "source": [
    "# Choose among sets to encode here:\n",
    "\n",
    "enc = OneHotEncoder(handle_unknown='ignore',categories=[list(set(df['country'])),list(set(df['variety']))])\n",
    "enc.fit(df[['country','variety']])\n",
    "newdf=pd.DataFrame(enc.transform(df[['country','variety']]).toarray(),columns=enc.get_feature_names().tolist())\n",
    "\n",
    "#enc = OneHotEncoder(handle_unknown='ignore',categories=[list(set(df['continent'])),list(set(df['variety']))])\n",
    "#enc.fit(df[['continent','variety']])\n",
    "#newdf=pd.DataFrame(enc.transform(df[['continent','variety']]).toarray(),columns=enc.get_feature_names().tolist())\n",
    "\n",
    "#enc = OneHotEncoder(handle_unknown='ignore',categories=[list(set(df['continent']))])\n",
    "#enc.fit(df[['continent']])\n",
    "#newdf=pd.DataFrame(enc.transform(df[['continent']]).toarray(),columns=enc.get_feature_names().tolist())\n",
    "\n",
    "#enc = OneHotEncoder(handle_unknown='ignore',categories=[list(set(df['country']))])\n",
    "#enc.fit(df[['country']])\n",
    "#newdf=pd.DataFrame(enc.transform(df[['country']]).toarray(),columns=enc.get_feature_names().tolist())\n",
    "\n",
    "#enc = OneHotEncoder(handle_unknown='ignore',categories=[list(set(df['variety']))])\n",
    "#enc.fit(df[['variety']])\n",
    "#newdf=pd.DataFrame(enc.transform(df[['variety']]).toarray(),columns=enc.get_feature_names().tolist())\n",
    "\n",
    "for i in ['textlen','over90','points','price','original_price']:\n",
    "    newdf[i]=df[i]"
   ]
  },
  {
   "cell_type": "markdown",
   "metadata": {},
   "source": [
    "### Train-Test-Split"
   ]
  },
  {
   "cell_type": "code",
   "execution_count": 62,
   "metadata": {},
   "outputs": [],
   "source": [
    "newdf=newdf.set_index(np.random.permutation(newdf.index.values)).sort_index()\n",
    "\n",
    "# Determine split index:\n",
    "split_index=int(np.round(newdf.shape[0]*.8))\n",
    "\n",
    "# Assign training and testing datasets based on split index\n",
    "train_df=newdf.iloc[:split_index,:]\n",
    "test_df=newdf.iloc[split_index:,:]\n",
    "\n",
    "trainX=train_df.drop(['over90','points','original_price'],axis=1)\n",
    "trainY=train_df[['over90','points','original_price']]\n",
    "testX=test_df.drop(['over90','points','original_price'],axis=1)\n",
    "testY=test_df[['over90','points','original_price']]"
   ]
  },
  {
   "cell_type": "markdown",
   "metadata": {},
   "source": [
    "### Cross Validation"
   ]
  },
  {
   "cell_type": "code",
   "execution_count": 63,
   "metadata": {},
   "outputs": [],
   "source": [
    "def xVal(dataset, label_name, k,model):\n",
    "    kf = KFold(n_splits=k)\n",
    "    results=[]\n",
    "    highest=0\n",
    "    for train_idxs, test_idxs in kf.split(dataset.drop(label_name,1)):\n",
    "        train=dataset.iloc[train_idxs]\n",
    "        test=dataset.iloc[test_idxs]\n",
    "\n",
    "        clf=model().fit(train.drop(label_name,1),train[label_name])\n",
    "        auc=roc_auc_score(test[label_name], clf.predict_proba(test.drop(label_name,1))[:,1])\n",
    "        score=clf.score(test.drop(label_name,axis=1),test[label_name])\n",
    "        if score > highest:\n",
    "            highest=score\n",
    "            best_model=clf\n",
    "        results.append((auc,score))\n",
    "            \n",
    "    return results,best_model"
   ]
  },
  {
   "cell_type": "code",
   "execution_count": 64,
   "metadata": {},
   "outputs": [],
   "source": [
    "def plotAUC(truth, pred, lab):\n",
    "    fpr, tpr, thresholds = roc_curve(truth, pred)\n",
    "    roc_auc = auc(fpr, tpr)\n",
    "    plt.plot(fpr, tpr, label= lab+' (AUC = %0.2f)' % roc_auc)\n",
    "    plt.plot([0, 1], [0, 1], 'k--')\n",
    "    plt.xlim([0, 1])\n",
    "    plt.ylim([0, 1])\n",
    "    plt.xlabel('FPR')\n",
    "    plt.ylabel('TPR')\n",
    "    plt.title('ROC')\n",
    "    plt.legend(loc=\"lower right\")"
   ]
  },
  {
   "cell_type": "markdown",
   "metadata": {},
   "source": [
    "## Minimizing expenditures"
   ]
  },
  {
   "cell_type": "code",
   "execution_count": 65,
   "metadata": {
    "scrolled": true
   },
   "outputs": [],
   "source": [
    "rfc=pickle.load(open('rfc_model.sav','rb'))"
   ]
  },
  {
   "cell_type": "code",
   "execution_count": 66,
   "metadata": {
    "scrolled": false
   },
   "outputs": [
    {
     "data": {
      "text/plain": [
       "0.735439658241367"
      ]
     },
     "execution_count": 66,
     "metadata": {},
     "output_type": "execute_result"
    }
   ],
   "source": [
    "sum(rfc.predict(testX)==testY['over90'])/testX.shape[0]"
   ]
  },
  {
   "cell_type": "code",
   "execution_count": 67,
   "metadata": {
    "scrolled": false
   },
   "outputs": [],
   "source": [
    "outcomes=testY.copy()"
   ]
  },
  {
   "cell_type": "code",
   "execution_count": 68,
   "metadata": {},
   "outputs": [],
   "source": [
    "outcomes['prediction']=rfc.predict(testX)"
   ]
  },
  {
   "cell_type": "code",
   "execution_count": 127,
   "metadata": {},
   "outputs": [
    {
     "data": {
      "text/plain": [
       "[<matplotlib.lines.Line2D at 0x1a359bbf98>]"
      ]
     },
     "execution_count": 127,
     "metadata": {},
     "output_type": "execute_result"
    },
    {
     "data": {
      "image/png": "[encoded data removed]",
      "text/plain": [
       "<Figure size 432x288 with 1 Axes>"
      ]
     },
     "metadata": {
      "needs_background": "light"
     },
     "output_type": "display_data"
    }
   ],
   "source": [
    "plt.plot(range(80,101),outcomes.groupby(['prediction','points']).count()['over90'][:21].values)\n",
    "\n",
    "plt.plot(range(80,101),outcomes.groupby(['prediction','points']).count()['over90'][21:].values)"
   ]
  },
  {
   "cell_type": "code",
   "execution_count": 172,
   "metadata": {},
   "outputs": [
    {
     "data": {
      "text/plain": [
       "0              4.0\n",
       "1              8.0\n",
       "21            13.0\n",
       "22            18.0\n",
       "23            23.0\n",
       "24            28.0\n",
       "25            33.0\n",
       "26            38.0\n",
       "27            43.0\n",
       "28            48.0\n",
       "30            53.0\n",
       "31            58.0\n",
       "32            63.0\n",
       "33            68.0\n",
       "34            73.0\n",
       "35            78.0\n",
       "36            83.0\n",
       "20            88.0\n",
       "19            93.0\n",
       "29            98.0\n",
       "17           103.0\n",
       "18           108.0\n",
       "2            113.0\n",
       "3            118.0\n",
       "4            123.0\n",
       "6            128.0\n",
       "7            133.0\n",
       "8            138.0\n",
       "5            143.0\n",
       "10           148.0\n",
       "           ...    \n",
       "51624    1741392.0\n",
       "51625    1741942.0\n",
       "51626    1742522.0\n",
       "51627    1743110.0\n",
       "51629    1743705.0\n",
       "51628    1744300.0\n",
       "51630    1744899.0\n",
       "51631    1745499.0\n",
       "51632    1746124.0\n",
       "51633    1746749.0\n",
       "51634    1747374.0\n",
       "51635    1748034.0\n",
       "51636    1748704.0\n",
       "51637    1749389.0\n",
       "51638    1750099.0\n",
       "51639    1750856.0\n",
       "51641    1751631.0\n",
       "51640    1752406.0\n",
       "51642    1753254.0\n",
       "51643    1754104.0\n",
       "51644    1755104.0\n",
       "51645    1756204.0\n",
       "51646    1757404.0\n",
       "51647    1758604.0\n",
       "51648    1759904.0\n",
       "51649    1761304.0\n",
       "51650    1762704.0\n",
       "51651    1764604.0\n",
       "51652    1766904.0\n",
       "51653    1769404.0\n",
       "Name: original_price, Length: 51654, dtype: float64"
      ]
     },
     "execution_count": 172,
     "metadata": {},
     "output_type": "execute_result"
    }
   ],
   "source": [
    "np.cumsum(outcomes[pd.notnull(outcomes['original_price'])].sort_values(by='original_price')['original_price'])"
   ]
  },
  {
   "cell_type": "code",
   "execution_count": 173,
   "metadata": {},
   "outputs": [
    {
     "data": {
      "text/plain": [
       "42461"
      ]
     },
     "execution_count": 173,
     "metadata": {},
     "output_type": "execute_result"
    }
   ],
   "source": [
    "sum(np.cumsum(outcomes[pd.notnull(outcomes['original_price'])].sort_values(by='original_price',ascending=False)['original_price'])<=1000000)"
   ]
  },
  {
   "cell_type": "code",
   "execution_count": 174,
   "metadata": {},
   "outputs": [
    {
     "data": {
      "text/plain": [
       "28810"
      ]
     },
     "execution_count": 174,
     "metadata": {},
     "output_type": "execute_result"
    }
   ],
   "source": [
    "sum(np.cumsum(outcomes['original_price'])<=500000)"
   ]
  },
  {
   "cell_type": "code",
   "execution_count": 175,
   "metadata": {},
   "outputs": [
    {
     "data": {
      "text/plain": [
       "0    24520\n",
       "1     4291\n",
       "Name: over90, dtype: int64"
      ]
     },
     "execution_count": 175,
     "metadata": {},
     "output_type": "execute_result"
    }
   ],
   "source": [
    "outcomes.iloc[:28811]['over90'].value_counts()"
   ]
  },
  {
   "cell_type": "code",
   "execution_count": 168,
   "metadata": {},
   "outputs": [
    {
     "data": {
      "text/plain": [
       "12406"
      ]
     },
     "execution_count": 168,
     "metadata": {},
     "output_type": "execute_result"
    }
   ],
   "source": [
    "sum(np.cumsum(outcomes[outcomes['prediction']==1]['original_price'])<=500000)"
   ]
  },
  {
   "cell_type": "code",
   "execution_count": null,
   "metadata": {},
   "outputs": [],
   "source": [
    "np.cumsum(outcomes[outcomes['prediction']==1].reset_index(drop=True)['original_price'])"
   ]
  },
  {
   "cell_type": "code",
   "execution_count": 171,
   "metadata": {},
   "outputs": [
    {
     "data": {
      "text/plain": [
       "1    7402\n",
       "0    5005\n",
       "Name: over90, dtype: int64"
      ]
     },
     "execution_count": 171,
     "metadata": {},
     "output_type": "execute_result"
    }
   ],
   "source": [
    "outcomes[outcomes['prediction']==1].reset_index(drop=True).iloc[:12407]['over90'].value_counts()"
   ]
  },
  {
   "cell_type": "code",
   "execution_count": null,
   "metadata": {},
   "outputs": [],
   "source": []
  }
 ],
 "metadata": {
  "kernelspec": {
   "display_name": "Python 3",
   "language": "python",
   "name": "python3"
  },
  "language_info": {
   "codemirror_mode": {
    "name": "ipython",
    "version": 3
   },
   "file_extension": ".py",
   "mimetype": "text/x-python",
   "name": "python",
   "nbconvert_exporter": "python",
   "pygments_lexer": "ipython3",
   "version": "3.6.6"
  }
 },
 "nbformat": 4,
 "nbformat_minor": 2
}
